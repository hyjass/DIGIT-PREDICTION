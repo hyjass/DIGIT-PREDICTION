{
  "nbformat": 4,
  "nbformat_minor": 0,
  "metadata": {
    "colab": {
      "provenance": [],
      "authorship_tag": "ABX9TyNmuSzWXeMPMCNsG3Ms5G/g",
      "include_colab_link": true
    },
    "kernelspec": {
      "name": "python3",
      "display_name": "Python 3"
    },
    "language_info": {
      "name": "python"
    }
  },
  "cells": [
    {
      "cell_type": "markdown",
      "metadata": {
        "id": "view-in-github",
        "colab_type": "text"
      },
      "source": [
        "<a href=\"https://colab.research.google.com/github/hyjass/jaskarans/blob/main/HANDWRITTEN_DIGIT_PREDICTION.ipynb\" target=\"_parent\"><img src=\"https://colab.research.google.com/assets/colab-badge.svg\" alt=\"Open In Colab\"/></a>"
      ]
    },
    {
      "cell_type": "markdown",
      "source": [
        "### **PROJECT TITLE : HANDWITTEN DIGIT PREDICTION**"
      ],
      "metadata": {
        "id": "hnNLceg1p2sP"
      }
    },
    {
      "cell_type": "markdown",
      "source": [
        "### **OBJECTIVE : This model analyzes and predict the outcome of the number fed into the model with various flavors of the handwriting available**"
      ],
      "metadata": {
        "id": "hlZgBaglqKSs"
      }
    },
    {
      "cell_type": "markdown",
      "source": [
        "### **DATA SOURCE : load_digits**"
      ],
      "metadata": {
        "id": "KfuXKKLzq509"
      }
    },
    {
      "cell_type": "markdown",
      "source": [
        "### **IMPORT LIBRARIES**"
      ],
      "metadata": {
        "id": "rIFdi4d-E3UM"
      }
    },
    {
      "cell_type": "code",
      "execution_count": 1,
      "metadata": {
        "id": "HFjdW76BAOpj"
      },
      "outputs": [],
      "source": [
        "import pandas as pd\n",
        "import numpy as np\n",
        "import matplotlib.pyplot as plt\n"
      ]
    },
    {
      "cell_type": "markdown",
      "source": [
        "### **IMPORT DATA**"
      ],
      "metadata": {
        "id": "nxpaQds0Eynt"
      }
    },
    {
      "cell_type": "code",
      "source": [
        "from sklearn.datasets import load_digits\n",
        "df=load_digits()\n"
      ],
      "metadata": {
        "id": "q-BCs3A3Al8D"
      },
      "execution_count": 2,
      "outputs": []
    },
    {
      "cell_type": "markdown",
      "source": [
        "### **DESCRIBE DATA : The datasets. load_digits() function helps to load and return the digit dataset.**"
      ],
      "metadata": {
        "id": "odKZ1A4Tr0WE"
      }
    },
    {
      "cell_type": "markdown",
      "source": [
        "### **DATA VISUALISATION**"
      ],
      "metadata": {
        "id": "gmH_0p8EsQsS"
      }
    },
    {
      "cell_type": "code",
      "source": [
        "_, axes= plt.subplots(nrows=1,ncols=10,figsize=(10,3))\n",
        "for ax,image,label in zip(axes,df.images,df.target):\n",
        "    ax.set_axis_off()\n",
        "    ax.imshow(image,cmap=plt.cm.gray_r,interpolation=\"nearest\")\n",
        "    ax.set_title(\"Training: %i\" % label)"
      ],
      "metadata": {
        "colab": {
          "base_uri": "https://localhost:8080/",
          "height": 125
        },
        "id": "_BvJmMiwA0Iy",
        "outputId": "eb8d663a-d10d-41b1-ff14-64c4445a65ad"
      },
      "execution_count": 3,
      "outputs": [
        {
          "output_type": "display_data",
          "data": {
            "text/plain": [
              "<Figure size 1000x300 with 10 Axes>"
            ],
            "image/png": "[encoded data removed]"
          },
          "metadata": {}
        }
      ]
    },
    {
      "cell_type": "markdown",
      "source": [
        "### **DATA PREPROCESSING**"
      ],
      "metadata": {
        "id": "fASDPqJlEsCc"
      }
    },
    {
      "cell_type": "code",
      "source": [
        "df.images.shape"
      ],
      "metadata": {
        "colab": {
          "base_uri": "https://localhost:8080/"
        },
        "id": "G8nDHNIYBC3a",
        "outputId": "e93517a0-27aa-447f-f921-307903a75eca"
      },
      "execution_count": 4,
      "outputs": [
        {
          "output_type": "execute_result",
          "data": {
            "text/plain": [
              "(1797, 8, 8)"
            ]
          },
          "metadata": {},
          "execution_count": 4
        }
      ]
    },
    {
      "cell_type": "code",
      "source": [
        "df.images[0]"
      ],
      "metadata": {
        "colab": {
          "base_uri": "https://localhost:8080/"
        },
        "id": "07hKbVQNBReq",
        "outputId": "86dc1bf1-9682-423f-c74f-a6d4e4d0b98b"
      },
      "execution_count": 5,
      "outputs": [
        {
          "output_type": "execute_result",
          "data": {
            "text/plain": [
              "array([[ 0.,  0.,  5., 13.,  9.,  1.,  0.,  0.],\n",
              "       [ 0.,  0., 13., 15., 10., 15.,  5.,  0.],\n",
              "       [ 0.,  3., 15.,  2.,  0., 11.,  8.,  0.],\n",
              "       [ 0.,  4., 12.,  0.,  0.,  8.,  8.,  0.],\n",
              "       [ 0.,  5.,  8.,  0.,  0.,  9.,  8.,  0.],\n",
              "       [ 0.,  4., 11.,  0.,  1., 12.,  7.,  0.],\n",
              "       [ 0.,  2., 14.,  5., 10., 12.,  0.,  0.],\n",
              "       [ 0.,  0.,  6., 13., 10.,  0.,  0.,  0.]])"
            ]
          },
          "metadata": {},
          "execution_count": 5
        }
      ]
    },
    {
      "cell_type": "code",
      "source": [
        "df.images[0].shape"
      ],
      "metadata": {
        "colab": {
          "base_uri": "https://localhost:8080/"
        },
        "id": "SrO2biuzBXQb",
        "outputId": "931f5c86-c7b9-4fa1-f9a5-547cca3c6138"
      },
      "execution_count": 6,
      "outputs": [
        {
          "output_type": "execute_result",
          "data": {
            "text/plain": [
              "(8, 8)"
            ]
          },
          "metadata": {},
          "execution_count": 6
        }
      ]
    },
    {
      "cell_type": "code",
      "source": [
        "len(df.images)"
      ],
      "metadata": {
        "colab": {
          "base_uri": "https://localhost:8080/"
        },
        "id": "VYdSLnbRBeBy",
        "outputId": "03bec22b-04d7-47e4-99ee-0d19510f2470"
      },
      "execution_count": 7,
      "outputs": [
        {
          "output_type": "execute_result",
          "data": {
            "text/plain": [
              "1797"
            ]
          },
          "metadata": {},
          "execution_count": 7
        }
      ]
    },
    {
      "cell_type": "code",
      "source": [
        "n_samples = len(df.images)\n",
        "data = df.images.reshape((n_samples,-1))"
      ],
      "metadata": {
        "id": "3iDzRW1BB2PF"
      },
      "execution_count": 8,
      "outputs": []
    },
    {
      "cell_type": "code",
      "source": [
        "data[0]"
      ],
      "metadata": {
        "colab": {
          "base_uri": "https://localhost:8080/"
        },
        "id": "X86NiLLjB_ce",
        "outputId": "9c7ee2de-b50f-46e5-c55c-61f5ee546d14"
      },
      "execution_count": 9,
      "outputs": [
        {
          "output_type": "execute_result",
          "data": {
            "text/plain": [
              "array([ 0.,  0.,  5., 13.,  9.,  1.,  0.,  0.,  0.,  0., 13., 15., 10.,\n",
              "       15.,  5.,  0.,  0.,  3., 15.,  2.,  0., 11.,  8.,  0.,  0.,  4.,\n",
              "       12.,  0.,  0.,  8.,  8.,  0.,  0.,  5.,  8.,  0.,  0.,  9.,  8.,\n",
              "        0.,  0.,  4., 11.,  0.,  1., 12.,  7.,  0.,  0.,  2., 14.,  5.,\n",
              "       10., 12.,  0.,  0.,  0.,  0.,  6., 13., 10.,  0.,  0.,  0.])"
            ]
          },
          "metadata": {},
          "execution_count": 9
        }
      ]
    },
    {
      "cell_type": "code",
      "source": [
        "data[0].shape"
      ],
      "metadata": {
        "colab": {
          "base_uri": "https://localhost:8080/"
        },
        "id": "W6FrBH-ECJkk",
        "outputId": "e60a3f2f-bd3c-4d60-ce34-ace20e060990"
      },
      "execution_count": 10,
      "outputs": [
        {
          "output_type": "execute_result",
          "data": {
            "text/plain": [
              "(64,)"
            ]
          },
          "metadata": {},
          "execution_count": 10
        }
      ]
    },
    {
      "cell_type": "code",
      "source": [
        "data.shape"
      ],
      "metadata": {
        "colab": {
          "base_uri": "https://localhost:8080/"
        },
        "id": "accx4LM8CP62",
        "outputId": "ac4816e3-5ee5-41d7-d061-cf7aaf06e810"
      },
      "execution_count": 11,
      "outputs": [
        {
          "output_type": "execute_result",
          "data": {
            "text/plain": [
              "(1797, 64)"
            ]
          },
          "metadata": {},
          "execution_count": 11
        }
      ]
    },
    {
      "cell_type": "markdown",
      "source": [
        "### **SCALING IMAGE DATA**"
      ],
      "metadata": {
        "id": "x4CxL5paEil5"
      }
    },
    {
      "cell_type": "code",
      "source": [
        "data.min()"
      ],
      "metadata": {
        "colab": {
          "base_uri": "https://localhost:8080/"
        },
        "id": "TStgKhcTCeGE",
        "outputId": "cc19a8d7-4990-4720-a19c-0f59ed47d018"
      },
      "execution_count": 12,
      "outputs": [
        {
          "output_type": "execute_result",
          "data": {
            "text/plain": [
              "0.0"
            ]
          },
          "metadata": {},
          "execution_count": 12
        }
      ]
    },
    {
      "cell_type": "code",
      "source": [
        "data.max()"
      ],
      "metadata": {
        "colab": {
          "base_uri": "https://localhost:8080/"
        },
        "id": "LCKrwOezCmnC",
        "outputId": "33148f0d-1c2b-4218-f9e0-fa177f606077"
      },
      "execution_count": 13,
      "outputs": [
        {
          "output_type": "execute_result",
          "data": {
            "text/plain": [
              "16.0"
            ]
          },
          "metadata": {},
          "execution_count": 13
        }
      ]
    },
    {
      "cell_type": "code",
      "source": [
        "data=data/16"
      ],
      "metadata": {
        "id": "HhpXNt_xCu0D"
      },
      "execution_count": 14,
      "outputs": []
    },
    {
      "cell_type": "code",
      "source": [
        "data.min()"
      ],
      "metadata": {
        "colab": {
          "base_uri": "https://localhost:8080/"
        },
        "id": "0qwb-j8yDLIi",
        "outputId": "19f94682-c3c4-4548-8616-cc6343ca5381"
      },
      "execution_count": 15,
      "outputs": [
        {
          "output_type": "execute_result",
          "data": {
            "text/plain": [
              "0.0"
            ]
          },
          "metadata": {},
          "execution_count": 15
        }
      ]
    },
    {
      "cell_type": "code",
      "source": [
        "data.max()"
      ],
      "metadata": {
        "colab": {
          "base_uri": "https://localhost:8080/"
        },
        "id": "vKwmT8bHDP3a",
        "outputId": "4d5248df-3747-4a8d-9a13-de3e26fe8999"
      },
      "execution_count": 16,
      "outputs": [
        {
          "output_type": "execute_result",
          "data": {
            "text/plain": [
              "1.0"
            ]
          },
          "metadata": {},
          "execution_count": 16
        }
      ]
    },
    {
      "cell_type": "code",
      "source": [
        "data[0]"
      ],
      "metadata": {
        "colab": {
          "base_uri": "https://localhost:8080/"
        },
        "id": "YfnYcBmQDTE-",
        "outputId": "2a1cebf5-ae16-4f0b-ec36-7bb39610a18c"
      },
      "execution_count": 17,
      "outputs": [
        {
          "output_type": "execute_result",
          "data": {
            "text/plain": [
              "array([0.    , 0.    , 0.3125, 0.8125, 0.5625, 0.0625, 0.    , 0.    ,\n",
              "       0.    , 0.    , 0.8125, 0.9375, 0.625 , 0.9375, 0.3125, 0.    ,\n",
              "       0.    , 0.1875, 0.9375, 0.125 , 0.    , 0.6875, 0.5   , 0.    ,\n",
              "       0.    , 0.25  , 0.75  , 0.    , 0.    , 0.5   , 0.5   , 0.    ,\n",
              "       0.    , 0.3125, 0.5   , 0.    , 0.    , 0.5625, 0.5   , 0.    ,\n",
              "       0.    , 0.25  , 0.6875, 0.    , 0.0625, 0.75  , 0.4375, 0.    ,\n",
              "       0.    , 0.125 , 0.875 , 0.3125, 0.625 , 0.75  , 0.    , 0.    ,\n",
              "       0.    , 0.    , 0.375 , 0.8125, 0.625 , 0.    , 0.    , 0.    ])"
            ]
          },
          "metadata": {},
          "execution_count": 17
        }
      ]
    },
    {
      "cell_type": "markdown",
      "source": [],
      "metadata": {
        "id": "sj3yufhBpyKT"
      }
    },
    {
      "cell_type": "markdown",
      "source": [
        "### **TRAIN TEST SPLIT DATA**"
      ],
      "metadata": {
        "id": "YG5cpmhuEYAk"
      }
    },
    {
      "cell_type": "code",
      "source": [
        "from sklearn.model_selection import train_test_split\n",
        "X_train,X_test,y_train,y_test=train_test_split(data,df.target,test_size=0.3)\n"
      ],
      "metadata": {
        "id": "vzyaKh1UDXjo"
      },
      "execution_count": 18,
      "outputs": []
    },
    {
      "cell_type": "code",
      "source": [
        "X_train.shape,X_test.shape,y_train.shape,y_test.shape"
      ],
      "metadata": {
        "colab": {
          "base_uri": "https://localhost:8080/"
        },
        "id": "_HBSvpccDv9z",
        "outputId": "f3de9705-bd1c-4987-c63f-628f284fe99c"
      },
      "execution_count": 19,
      "outputs": [
        {
          "output_type": "execute_result",
          "data": {
            "text/plain": [
              "((1257, 64), (540, 64), (1257,), (540,))"
            ]
          },
          "metadata": {},
          "execution_count": 19
        }
      ]
    },
    {
      "cell_type": "markdown",
      "source": [
        "### **MODELING : RANDOM FOREST MODEL**"
      ],
      "metadata": {
        "id": "JBDopQ6qEG0e"
      }
    },
    {
      "cell_type": "code",
      "source": [
        "from sklearn.ensemble import RandomForestClassifier\n",
        "rf=RandomForestClassifier()\n",
        "rf.fit(X_train,y_train)"
      ],
      "metadata": {
        "colab": {
          "base_uri": "https://localhost:8080/",
          "height": 74
        },
        "id": "bnsnuByLD7a1",
        "outputId": "19bbd0ba-d0ce-4fb0-c436-3b3d3e455e16"
      },
      "execution_count": 20,
      "outputs": [
        {
          "output_type": "execute_result",
          "data": {
            "text/plain": [
              "RandomForestClassifier()"
            ],
            "text/html": [
              "<style>#sk-container-id-1 {color: black;}#sk-container-id-1 pre{padding: 0;}#sk-container-id-1 div.sk-toggleable {background-color: white;}#sk-container-id-1 label.sk-toggleable__label {cursor: pointer;display: block;width: 100%;margin-bottom: 0;padding: 0.3em;box-sizing: border-box;text-align: center;}#sk-container-id-1 label.sk-toggleable__label-arrow:before {content: \"▸\";float: left;margin-right: 0.25em;color: #696969;}#sk-container-id-1 label.sk-toggleable__label-arrow:hover:before {color: black;}#sk-container-id-1 div.sk-estimator:hover label.sk-toggleable__label-arrow:before {color: black;}#sk-container-id-1 div.sk-toggleable__content {max-height: 0;max-width: 0;overflow: hidden;text-align: left;background-color: #f0f8ff;}#sk-container-id-1 div.sk-toggleable__content pre {margin: 0.2em;color: black;border-radius: 0.25em;background-color: #f0f8ff;}#sk-container-id-1 input.sk-toggleable__control:checked~div.sk-toggleable__content {max-height: 200px;max-width: 100%;overflow: auto;}#sk-container-id-1 input.sk-toggleable__control:checked~label.sk-toggleable__label-arrow:before {content: \"▾\";}#sk-container-id-1 div.sk-estimator input.sk-toggleable__control:checked~label.sk-toggleable__label {background-color: #d4ebff;}#sk-container-id-1 div.sk-label input.sk-toggleable__control:checked~label.sk-toggleable__label {background-color: #d4ebff;}#sk-container-id-1 input.sk-hidden--visually {border: 0;clip: rect(1px 1px 1px 1px);clip: rect(1px, 1px, 1px, 1px);height: 1px;margin: -1px;overflow: hidden;padding: 0;position: absolute;width: 1px;}#sk-container-id-1 div.sk-estimator {font-family: monospace;background-color: #f0f8ff;border: 1px dotted black;border-radius: 0.25em;box-sizing: border-box;margin-bottom: 0.5em;}#sk-container-id-1 div.sk-estimator:hover {background-color: #d4ebff;}#sk-container-id-1 div.sk-parallel-item::after {content: \"\";width: 100%;border-bottom: 1px solid gray;flex-grow: 1;}#sk-container-id-1 div.sk-label:hover label.sk-toggleable__label {background-color: #d4ebff;}#sk-container-id-1 div.sk-serial::before {content: \"\";position: absolute;border-left: 1px solid gray;box-sizing: border-box;top: 0;bottom: 0;left: 50%;z-index: 0;}#sk-container-id-1 div.sk-serial {display: flex;flex-direction: column;align-items: center;background-color: white;padding-right: 0.2em;padding-left: 0.2em;position: relative;}#sk-container-id-1 div.sk-item {position: relative;z-index: 1;}#sk-container-id-1 div.sk-parallel {display: flex;align-items: stretch;justify-content: center;background-color: white;position: relative;}#sk-container-id-1 div.sk-item::before, #sk-container-id-1 div.sk-parallel-item::before {content: \"\";position: absolute;border-left: 1px solid gray;box-sizing: border-box;top: 0;bottom: 0;left: 50%;z-index: -1;}#sk-container-id-1 div.sk-parallel-item {display: flex;flex-direction: column;z-index: 1;position: relative;background-color: white;}#sk-container-id-1 div.sk-parallel-item:first-child::after {align-self: flex-end;width: 50%;}#sk-container-id-1 div.sk-parallel-item:last-child::after {align-self: flex-start;width: 50%;}#sk-container-id-1 div.sk-parallel-item:only-child::after {width: 0;}#sk-container-id-1 div.sk-dashed-wrapped {border: 1px dashed gray;margin: 0 0.4em 0.5em 0.4em;box-sizing: border-box;padding-bottom: 0.4em;background-color: white;}#sk-container-id-1 div.sk-label label {font-family: monospace;font-weight: bold;display: inline-block;line-height: 1.2em;}#sk-container-id-1 div.sk-label-container {text-align: center;}#sk-container-id-1 div.sk-container {/* jupyter's `normalize.less` sets `[hidden] { display: none; }` but bootstrap.min.css set `[hidden] { display: none !important; }` so we also need the `!important` here to be able to override the default hidden behavior on the sphinx rendered scikit-learn.org. See: https://github.com/scikit-learn/scikit-learn/issues/21755 */display: inline-block !important;position: relative;}#sk-container-id-1 div.sk-text-repr-fallback {display: none;}</style><div id=\"sk-container-id-1\" class=\"sk-top-container\"><div class=\"sk-text-repr-fallback\"><pre>RandomForestClassifier()</pre><b>In a Jupyter environment, please rerun this cell to show the HTML representation or trust the notebook. <br />On GitHub, the HTML representation is unable to render, please try loading this page with nbviewer.org.</b></div><div class=\"sk-container\" hidden><div class=\"sk-item\"><div class=\"sk-estimator sk-toggleable\"><input class=\"sk-toggleable__control sk-hidden--visually\" id=\"sk-estimator-id-1\" type=\"checkbox\" checked><label for=\"sk-estimator-id-1\" class=\"sk-toggleable__label sk-toggleable__label-arrow\">RandomForestClassifier</label><div class=\"sk-toggleable__content\"><pre>RandomForestClassifier()</pre></div></div></div></div></div>"
            ]
          },
          "metadata": {},
          "execution_count": 20
        }
      ]
    },
    {
      "cell_type": "markdown",
      "source": [
        "### **PREDICT TEST DATA**"
      ],
      "metadata": {
        "id": "7VFckynDFHoP"
      }
    },
    {
      "cell_type": "code",
      "source": [
        "y_pred=rf.predict(X_test)"
      ],
      "metadata": {
        "id": "2LEIBxZYEFo1"
      },
      "execution_count": 21,
      "outputs": []
    },
    {
      "cell_type": "code",
      "source": [
        "y_pred"
      ],
      "metadata": {
        "colab": {
          "base_uri": "https://localhost:8080/"
        },
        "id": "lXDhzXDUFUcb",
        "outputId": "6b5fdba1-d041-4415-ffc4-aa6d6bf47bee"
      },
      "execution_count": 22,
      "outputs": [
        {
          "output_type": "execute_result",
          "data": {
            "text/plain": [
              "array([2, 3, 7, 6, 0, 2, 1, 4, 1, 3, 1, 8, 5, 2, 5, 9, 8, 8, 6, 6, 5, 3,\n",
              "       3, 6, 1, 7, 7, 1, 6, 2, 6, 1, 9, 1, 4, 3, 9, 5, 5, 9, 2, 5, 4, 6,\n",
              "       2, 3, 7, 6, 7, 3, 2, 9, 4, 3, 8, 0, 9, 3, 8, 0, 8, 0, 7, 6, 8, 4,\n",
              "       7, 5, 6, 6, 5, 6, 5, 4, 3, 9, 4, 6, 7, 2, 9, 5, 1, 6, 3, 5, 4, 3,\n",
              "       3, 9, 3, 7, 6, 0, 9, 0, 4, 6, 0, 9, 5, 2, 6, 9, 2, 5, 3, 7, 2, 6,\n",
              "       4, 1, 4, 5, 5, 6, 2, 3, 1, 4, 7, 4, 1, 7, 0, 1, 5, 6, 6, 7, 8, 4,\n",
              "       6, 5, 4, 3, 7, 1, 6, 6, 1, 0, 7, 2, 6, 6, 1, 7, 1, 9, 5, 0, 1, 7,\n",
              "       0, 5, 9, 6, 4, 3, 2, 7, 3, 8, 9, 8, 1, 3, 2, 3, 9, 9, 5, 3, 1, 9,\n",
              "       4, 3, 4, 5, 7, 1, 0, 9, 5, 2, 6, 8, 7, 8, 0, 6, 2, 2, 1, 6, 6, 5,\n",
              "       7, 1, 4, 5, 0, 7, 6, 8, 9, 9, 2, 0, 8, 7, 5, 5, 9, 2, 2, 6, 2, 0,\n",
              "       4, 1, 9, 2, 4, 8, 9, 7, 4, 5, 9, 4, 7, 4, 7, 1, 4, 0, 1, 9, 4, 5,\n",
              "       1, 3, 7, 7, 8, 5, 3, 3, 5, 3, 3, 9, 7, 6, 3, 8, 5, 7, 0, 4, 0, 8,\n",
              "       9, 3, 4, 4, 0, 9, 5, 1, 3, 3, 2, 4, 6, 5, 4, 2, 5, 9, 9, 3, 9, 9,\n",
              "       1, 7, 3, 5, 4, 7, 9, 4, 2, 6, 9, 5, 7, 2, 1, 9, 1, 6, 1, 5, 5, 5,\n",
              "       1, 4, 1, 4, 8, 6, 5, 1, 4, 4, 4, 3, 8, 4, 0, 9, 0, 1, 3, 1, 8, 1,\n",
              "       5, 7, 7, 9, 5, 2, 0, 6, 5, 6, 6, 0, 4, 4, 3, 1, 1, 1, 9, 7, 4, 3,\n",
              "       9, 8, 0, 9, 4, 2, 5, 6, 7, 6, 9, 4, 2, 6, 8, 3, 0, 3, 2, 1, 0, 9,\n",
              "       5, 4, 2, 6, 8, 5, 9, 5, 2, 2, 7, 5, 9, 6, 4, 0, 5, 6, 4, 3, 4, 8,\n",
              "       3, 5, 8, 8, 8, 9, 0, 2, 3, 9, 3, 3, 1, 6, 0, 9, 8, 7, 6, 0, 2, 2,\n",
              "       0, 8, 8, 0, 8, 3, 9, 2, 9, 9, 9, 9, 3, 4, 9, 9, 1, 8, 0, 2, 2, 9,\n",
              "       5, 5, 6, 0, 1, 7, 2, 9, 9, 7, 6, 7, 5, 1, 2, 7, 9, 9, 8, 3, 8, 2,\n",
              "       4, 2, 8, 7, 7, 5, 1, 4, 4, 8, 4, 9, 3, 0, 3, 5, 7, 3, 2, 1, 2, 3,\n",
              "       4, 3, 6, 2, 8, 6, 7, 6, 1, 2, 7, 8, 3, 3, 0, 4, 5, 2, 5, 7, 2, 1,\n",
              "       9, 2, 0, 1, 4, 7, 1, 9, 0, 1, 1, 6, 0, 4, 6, 7, 8, 8, 9, 9, 7, 5,\n",
              "       7, 0, 7, 6, 3, 3, 9, 6, 9, 2, 6, 2])"
            ]
          },
          "metadata": {},
          "execution_count": 22
        }
      ]
    },
    {
      "cell_type": "markdown",
      "source": [
        "### **MODEL ACCURACY**"
      ],
      "metadata": {
        "id": "320iNvUXFY3W"
      }
    },
    {
      "cell_type": "code",
      "source": [
        "from sklearn.metrics import confusion_matrix,classification_report\n",
        "confusion_matrix(y_test,y_pred)\n"
      ],
      "metadata": {
        "colab": {
          "base_uri": "https://localhost:8080/"
        },
        "id": "EAyogB1eFdKi",
        "outputId": "6b80a078-3f24-42f6-eb33-afec5cc895e0"
      },
      "execution_count": 23,
      "outputs": [
        {
          "output_type": "execute_result",
          "data": {
            "text/plain": [
              "array([[41,  0,  0,  0,  0,  0,  0,  0,  0,  0],\n",
              "       [ 0, 51,  0,  0,  0,  0,  0,  0,  0,  1],\n",
              "       [ 0,  1, 53,  0,  0,  0,  0,  0,  0,  0],\n",
              "       [ 0,  0,  0, 57,  0,  1,  0,  2,  0,  1],\n",
              "       [ 0,  0,  0,  0, 57,  0,  0,  3,  0,  1],\n",
              "       [ 0,  0,  0,  0,  0, 55,  0,  0,  0,  1],\n",
              "       [ 0,  0,  0,  0,  0,  1, 59,  0,  0,  0],\n",
              "       [ 0,  0,  0,  0,  0,  0,  0, 49,  0,  0],\n",
              "       [ 0,  1,  0,  0,  0,  1,  0,  0, 40,  0],\n",
              "       [ 0,  0,  0,  0,  0,  0,  0,  0,  1, 63]])"
            ]
          },
          "metadata": {},
          "execution_count": 23
        }
      ]
    },
    {
      "cell_type": "code",
      "source": [
        "print(classification_report(y_test,y_pred))"
      ],
      "metadata": {
        "colab": {
          "base_uri": "https://localhost:8080/"
        },
        "id": "UyzvOkDBFyo0",
        "outputId": "b090b315-9e43-42e4-f31f-9de5881bd33d"
      },
      "execution_count": 24,
      "outputs": [
        {
          "output_type": "stream",
          "name": "stdout",
          "text": [
            "              precision    recall  f1-score   support\n",
            "\n",
            "           0       1.00      1.00      1.00        41\n",
            "           1       0.96      0.98      0.97        52\n",
            "           2       1.00      0.98      0.99        54\n",
            "           3       1.00      0.93      0.97        61\n",
            "           4       1.00      0.93      0.97        61\n",
            "           5       0.95      0.98      0.96        56\n",
            "           6       1.00      0.98      0.99        60\n",
            "           7       0.91      1.00      0.95        49\n",
            "           8       0.98      0.95      0.96        42\n",
            "           9       0.94      0.98      0.96        64\n",
            "\n",
            "    accuracy                           0.97       540\n",
            "   macro avg       0.97      0.97      0.97       540\n",
            "weighted avg       0.97      0.97      0.97       540\n",
            "\n"
          ]
        }
      ]
    },
    {
      "cell_type": "markdown",
      "source": [
        "### **EXPLAINATION : The Handwritten Digit Recognition is the ability of the computers to recognize the human handwritten digits. With the help of the dataset, this allows the model to analyze and predict the outcome of the number fed into the model with various flavors of the handwriting available.**"
      ],
      "metadata": {
        "id": "gsyVGuEWs4-I"
      }
    }
  ]
}